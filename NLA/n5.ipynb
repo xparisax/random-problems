{
 "cells": [
  {
   "cell_type": "markdown",
   "metadata": {},
   "source": [
    "# Question #5"
   ]
  },
  {
   "cell_type": "markdown",
   "metadata": {},
   "source": [
    "Using lanczos method"
   ]
  },
  {
   "cell_type": "code",
   "execution_count": 13,
   "metadata": {},
   "outputs": [],
   "source": [
    "import numpy as np\n",
    "from numpy import linalg as LA"
   ]
  },
  {
   "cell_type": "code",
   "execution_count": 11,
   "metadata": {},
   "outputs": [
    {
     "name": "stdout",
     "output_type": "stream",
     "text": [
      "enter N: 5\n"
     ]
    }
   ],
   "source": [
    "N = int(input(\"enter N: \"))\n",
    "A = np.random.randint(-20,20,size=(N,N))\n",
    "As = (A + A.T)/2"
   ]
  },
  {
   "cell_type": "code",
   "execution_count": 21,
   "metadata": {},
   "outputs": [],
   "source": [
    "v1 = np.random.rand(N)\n",
    "v1 /= np.sqrt(np.dot(v1, v1))"
   ]
  },
  {
   "cell_type": "code",
   "execution_count": 43,
   "metadata": {},
   "outputs": [],
   "source": [
    "def lanczos(A, v):\n",
    "    V = np.zeros_like(A)\n",
    "    T = np.zeros_like(A)\n",
    "    vo = np.zeros_like(A[0])\n",
    "    b = 1\n",
    "    n=A.shape[0]\n",
    "    \n",
    "    for i in range(n-1):\n",
    "        Av = np.dot(A, v)\n",
    "        a = np.dot(Av, v) #transposed\n",
    "        r = Av - a*v - b*vo\n",
    "        b = LA.norm(r)\n",
    "        vo = v\n",
    "        v = r/b\n",
    "        \n",
    "        T[i,i] = a \n",
    "        T[i,i+1] = b\n",
    "        T[i+1,i] = b\n",
    "        V[i,:]   = v\n",
    "        \n",
    "    Av = np.dot(A, v)\n",
    "    a = np.dot(Av, v)\n",
    "    r = Av - a*v - b*vo\n",
    "    T[n-1,n-1] = np.dot(Av, v)\n",
    "    V[n-1] = r / LA.norm(r) \n",
    "    print(T)\n",
    "    print('-'*80)\n",
    "    print(V)\n",
    "    return T"
   ]
  },
  {
   "cell_type": "code",
   "execution_count": 40,
   "metadata": {},
   "outputs": [
    {
     "name": "stdout",
     "output_type": "stream",
     "text": [
      "[[ -9.96971147  15.39160196   0.           0.           0.        ]\n",
      " [ 15.39160196  -7.83736687  17.44463781   0.           0.        ]\n",
      " [  0.          17.44463781 -15.32615269   3.19140971   0.        ]\n",
      " [  0.           0.           3.19140971   3.08527372   7.30729673]\n",
      " [  0.           0.           0.           7.30729673   7.0479573 ]]\n",
      "--------------------------------------------------------------------------------\n",
      "[[-0.44698578  0.40383039  0.79707684 -0.04199833  0.00542033]\n",
      " [-0.73978829  0.11638309 -0.46573565  0.20809723  0.42302967]\n",
      " [-0.00112064 -0.36021492  0.14080123 -0.70231396  0.59764042]\n",
      " [-0.24189095 -0.81832525  0.30152509  0.41918251 -0.07211932]\n",
      " [-0.06882805  0.11443234  0.71520214 -0.44732643 -0.52014701]]\n"
     ]
    }
   ],
   "source": [
    "T = lanczos(As, v1)"
   ]
  },
  {
   "cell_type": "code",
   "execution_count": 41,
   "metadata": {},
   "outputs": [
    {
     "name": "stdout",
     "output_type": "stream",
     "text": [
      "[-34.10577376 -12.57802846  -2.25202504  13.8855769   12.05025036]\n"
     ]
    }
   ],
   "source": [
    "A_ev = LA.eigvals(As) #eigenvalues\n",
    "print(A_ev)"
   ]
  },
  {
   "cell_type": "markdown",
   "metadata": {},
   "source": [
    "From the equation T=V(t)AV we find that T and A share the same eigenvalues."
   ]
  },
  {
   "cell_type": "code",
   "execution_count": 42,
   "metadata": {},
   "outputs": [
    {
     "name": "stdout",
     "output_type": "stream",
     "text": [
      "[-34.10577376 -12.57802846  -2.25202504  13.8855769   12.05025036]\n"
     ]
    }
   ],
   "source": [
    "T_ev = LA.eigvals(T)\n",
    "print(T_ev)"
   ]
  },
  {
   "cell_type": "code",
   "execution_count": null,
   "metadata": {},
   "outputs": [],
   "source": []
  }
 ],
 "metadata": {
  "kernelspec": {
   "display_name": "Python 3",
   "language": "python",
   "name": "python3"
  },
  "language_info": {
   "codemirror_mode": {
    "name": "ipython",
    "version": 3
   },
   "file_extension": ".py",
   "mimetype": "text/x-python",
   "name": "python",
   "nbconvert_exporter": "python",
   "pygments_lexer": "ipython3",
   "version": "3.6.9"
  }
 },
 "nbformat": 4,
 "nbformat_minor": 2
}
