{
 "cells": [
  {
   "cell_type": "markdown",
   "metadata": {},
   "source": [
    "# Question #3"
   ]
  },
  {
   "cell_type": "markdown",
   "metadata": {},
   "source": [
    "Given vector b= [1,1...,1] (N^2*1) find X(j) for block matrix below where I is an identity matrix and T is a matrix as shown below. "
   ]
  },
  {
   "cell_type": "code",
   "execution_count": 1,
   "metadata": {},
   "outputs": [],
   "source": [
    "import numpy as np\n",
    "from numpy import linalg as LA"
   ]
  },
  {
   "cell_type": "code",
   "execution_count": 3,
   "metadata": {},
   "outputs": [
    {
     "name": "stdout",
     "output_type": "stream",
     "text": [
      "[[ 4. -1.  0.]\n",
      " [-1.  4. -1.]\n",
      " [ 0. -1.  4.]]\n",
      "5.414213562373095\n"
     ]
    }
   ],
   "source": [
    "T = np.diag([-1]*(2),1)+np.eye(3)*4+np.diag([-1]*(2),-1)\n",
    "I = np.eye(3)*-1\n",
    "print(T)\n",
    "print(LA.norm(T,2))"
   ]
  },
  {
   "cell_type": "code",
   "execution_count": 4,
   "metadata": {},
   "outputs": [
    {
     "name": "stdout",
     "output_type": "stream",
     "text": [
      "[[ 4. -1.  0. -1. -0. -0.  0.  0.  0.]\n",
      " [-1.  4. -1. -0. -1. -0.  0.  0.  0.]\n",
      " [ 0. -1.  4. -0. -0. -1.  0.  0.  0.]\n",
      " [-1. -0. -0.  4. -1.  0. -1. -0. -0.]\n",
      " [-0. -1. -0. -1.  4. -1. -0. -1. -0.]\n",
      " [-0. -0. -1.  0. -1.  4. -0. -0. -1.]\n",
      " [ 0.  0.  0. -1. -0. -0.  4. -1.  0.]\n",
      " [ 0.  0.  0. -0. -1. -0. -1.  4. -1.]\n",
      " [ 0.  0.  0. -0. -0. -1.  0. -1.  4.]]\n",
      "6.828427124746191\n"
     ]
    }
   ],
   "source": [
    "A = np.block([[T,I,np.zeros((3,3))],[I,T,I],[np.zeros((3,3)),I,T]])\n",
    "print(A)\n",
    "print(LA.norm(A,2))"
   ]
  },
  {
   "cell_type": "markdown",
   "metadata": {},
   "source": [
    "The norm of this matrix is greater than 1 therefore given any vector X(0) it does not necessarily converge."
   ]
  },
  {
   "cell_type": "code",
   "execution_count": 57,
   "metadata": {},
   "outputs": [
    {
     "name": "stdout",
     "output_type": "stream",
     "text": [
      "[[0.26785714 0.07142857 0.01785714]\n",
      " [0.07142857 0.28571429 0.07142857]\n",
      " [0.01785714 0.07142857 0.26785714]]\n"
     ]
    }
   ],
   "source": [
    "T_inv = LA.inv(T)\n",
    "print(T_inv) #inverse of T"
   ]
  },
  {
   "cell_type": "markdown",
   "metadata": {},
   "source": [
    "Solve AX=B with the method derived from the jacobi method."
   ]
  },
  {
   "cell_type": "code",
   "execution_count": 61,
   "metadata": {},
   "outputs": [
    {
     "name": "stdout",
     "output_type": "stream",
     "text": [
      "Solution: \n",
      "[0.6875 0.875  0.6875 0.875  1.125  0.875  0.6875 0.875  0.6875]\n",
      "error: \n",
      "[ 0.00000000e+00 -4.44089210e-16 -4.44089210e-16  0.00000000e+00\n",
      "  0.00000000e+00  0.00000000e+00  0.00000000e+00 -3.33066907e-16\n",
      " -4.44089210e-16]\n"
     ]
    }
   ],
   "source": [
    "x1=np.zeros(3); x2=np.zeros(3); x3=np.zeros(3)\n",
    "b1=np.ones(3); b2=np.ones(3); b3=np.ones(3)\n",
    "\n",
    "for i in range(10000):\n",
    "    x1_new = np.zeros_like(x1); x2_new = np.zeros_like(x2); x3_new = np.zeros_like(x3)\n",
    "    \n",
    "    x1_new = np.dot(T_inv,(x2+b1))\n",
    "    x2_new = np.dot(T_inv,(x1+x3+b2))\n",
    "    x3_new = np.dot(T_inv,(x2+b3))\n",
    "    \n",
    "    norm = LA.norm((x1_new-x1))\n",
    "    if norm > 1.0e30:\n",
    "        print(\"Norm is not converging\")\n",
    "        break\n",
    "        \n",
    "    x1=x1_new; x2=x2_new; x3=x3_new\n",
    "\n",
    "X = np.block([x1,x2,x3])\n",
    "B = np.block([b1,b2,b3])\n",
    "r = np.dot(A, X) - B\n",
    "print(\"Solution: \" + \"\\n\" + \"{0}\".format(X))\n",
    "print(\"error: \" + \"\\n\" + \"{0}\".format(r))"
   ]
  },
  {
   "cell_type": "code",
   "execution_count": null,
   "metadata": {},
   "outputs": [],
   "source": []
  }
 ],
 "metadata": {
  "kernelspec": {
   "display_name": "Python 3",
   "language": "python",
   "name": "python3"
  },
  "language_info": {
   "codemirror_mode": {
    "name": "ipython",
    "version": 3
   },
   "file_extension": ".py",
   "mimetype": "text/x-python",
   "name": "python",
   "nbconvert_exporter": "python",
   "pygments_lexer": "ipython3",
   "version": "3.6.9"
  }
 },
 "nbformat": 4,
 "nbformat_minor": 2
}
